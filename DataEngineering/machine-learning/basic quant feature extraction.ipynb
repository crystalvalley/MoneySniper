{
 "cells": [
  {
   "cell_type": "code",
   "execution_count": null,
   "metadata": {},
   "outputs": [],
   "source": [
    "import pandas as pd\n",
    "import numpy as np\n",
    "import time\n",
    "import lightgbm as lgb\n",
    "from sklearn.metrics import mean_squared_error\n",
    "from sklearn.model_selection import KFold\n",
    "import matplotlib.pyplot as plt\n",
    "import seaborn as sns\n",
    "\n",
    "plt.style.use('seaborn')\n",
    "sns.set(font_scale=2)\n",
    "\n",
    "import warnings \n",
    "warnings.filterwarnings('ignore')\n",
    "import os"
   ]
  },
  {
   "cell_type": "code",
   "execution_count": null,
   "metadata": {},
   "outputs": [],
   "source": [
    "for i, df in market_train_df.groupby('assetCode'):\n",
    "    break"
   ]
  },
  {
   "cell_type": "markdown",
   "metadata": {},
   "source": [
    "# Moving Average\n",
    "\n",
    "An example of two moving average curves In statistics, a moving average (rolling average or running average) is a calculation to analyze data points by creating series of averages of different subsets of the full data set. It is also called a moving mean (MM) or rolling mean and is a type of finite impulse response filter."
   ]
  },
  {
   "cell_type": "markdown",
   "metadata": {},
   "source": [
    "## simple moving average"
   ]
  },
  {
   "cell_type": "code",
   "execution_count": null,
   "metadata": {},
   "outputs": [],
   "source": [
    "df['MA_7MA'] = df['close'].rolling(window=7).mean()\n",
    "df['MA_15MA'] = df['close'].rolling(window=15).mean()\n",
    "df['MA_30MA'] = df['close'].rolling(window=30).mean()\n",
    "df['MA_60MA'] = df['close'].rolling(window=60).mean()"
   ]
  },
  {
   "cell_type": "markdown",
   "metadata": {},
   "source": [
    "## exponential moving average"
   ]
  },
  {
   "cell_type": "code",
   "execution_count": null,
   "metadata": {},
   "outputs": [],
   "source": [
    "ewma = pd.Series.ewm"
   ]
  },
  {
   "cell_type": "code",
   "execution_count": null,
   "metadata": {},
   "outputs": [],
   "source": [
    "df['close_30EMA'] = ewma(df[\"close\"], span=30).mean()"
   ]
  },
  {
   "cell_type": "markdown",
   "metadata": {},
   "source": [
    "## visualization"
   ]
  },
  {
   "cell_type": "code",
   "execution_count": null,
   "metadata": {},
   "outputs": [],
   "source": [
    "plt.figure(figsize=(10, 10))\n",
    "plt.plot(df['close'].values)\n",
    "plt.plot(df['MA_7MA'].values)\n",
    "plt.plot(df['MA_60MA'].values)\n",
    "plt.plot(df['close_30EMA'].values)\n",
    "plt.legend(['Close', 'MA_7MA', 'MA_60MA', 'close_30EMA'])\n",
    "plt.show()"
   ]
  },
  {
   "cell_type": "markdown",
   "metadata": {},
   "source": [
    "# MACD"
   ]
  },
  {
   "cell_type": "markdown",
   "metadata": {},
   "source": [
    "MACD: (12-day EMA - 26-day EMA)\n",
    "\n",
    "Moving average convergence divergence (MACD) is a trend-following momentum indicator that shows the relationship between two moving averages of prices. The MACD is calculated by subtracting the 26-day exponential moving average (EMA) from the 12-day EMA"
   ]
  },
  {
   "cell_type": "code",
   "execution_count": null,
   "metadata": {},
   "outputs": [],
   "source": [
    "df['close_26EMA'] = ewma(df[\"close\"], span=26).mean()\n",
    "df['close_12EMA'] = ewma(df[\"close\"], span=12).mean()\n",
    "\n",
    "df['MACD'] = df['close_12EMA'] - df['close_26EMA']"
   ]
  },
  {
   "cell_type": "markdown",
   "metadata": {},
   "source": [
    "# Bollinger Band"
   ]
  },
  {
   "cell_type": "markdown",
   "metadata": {},
   "source": [
    "Bollinger Bands are a type of statistical chart characterizing the prices and volatility over time of a financial instrument or commodity, using a formulaic method propounded by John Bollinger in the 1980s. Financial traders employ these charts as a methodical tool to inform trading decisions, control automated trading systems, or as a component of technical analysis. Bollinger Bands display a graphical band (the envelope maximum and minimum of moving averages, similar to Keltner or Donchian channels) and volatility (expressed by the width of the envelope) in one two-dimensional chart."
   ]
  },
  {
   "cell_type": "code",
   "execution_count": null,
   "metadata": {},
   "outputs": [],
   "source": [
    "no_of_std = 2\n",
    "\n",
    "df['MA_7MA'] = df['close'].rolling(window=7).mean()\n",
    "df['MA_7MA_std'] = df['close'].rolling(window=7).std() \n",
    "df['MA_7MA_BB_high'] = df['MA_7MA'] + no_of_std * df['MA_7MA_std']\n",
    "df['MA_7MA_BB_low'] = df['MA_7MA'] - no_of_std * df['MA_7MA_std']"
   ]
  },
  {
   "cell_type": "markdown",
   "metadata": {},
   "source": [
    "# visualization2"
   ]
  },
  {
   "cell_type": "code",
   "execution_count": null,
   "metadata": {},
   "outputs": [],
   "source": [
    "plt.figure(figsize=(10, 10))\n",
    "plt.plot(df['close'].values)\n",
    "plt.plot(df['MA_7MA'].values)\n",
    "plt.plot(df['MA_7MA_BB_high'].values)\n",
    "plt.plot(df['MA_7MA_BB_low'].values)\n",
    "plt.legend(['Close', 'MA_7MA', 'MA_7MA_BB_high', 'MA_7MA_BB_low'])\n",
    "plt.xlim(2200, 2500)\n",
    "plt.ylim(30, 50)\n",
    "plt.show()"
   ]
  },
  {
   "cell_type": "code",
   "execution_count": null,
   "metadata": {},
   "outputs": [],
   "source": [
    "no_of_std = 2\n",
    "\n",
    "df['MA_15MA'] = df['close'].rolling(window=15).mean()\n",
    "df['MA_15MA_std'] = df['close'].rolling(window=15).std() \n",
    "df['MA_15MA_BB_high'] = df['MA_15MA'] + no_of_std * df['MA_15MA_std']\n",
    "df['MA_15MA_BB_low'] = df['MA_15MA'] - no_of_std * df['MA_15MA_std']\n",
    "\n",
    "plt.figure(figsize=(10, 10))\n",
    "plt.plot(df['close'].values)\n",
    "plt.plot(df['MA_15MA'].values)\n",
    "plt.plot(df['MA_15MA_BB_high'].values)\n",
    "plt.plot(df['MA_15MA_BB_low'].values)\n",
    "plt.legend(['Close', 'MA_15MA', 'MA_15MA_BB_high', 'MA_15MA_BB_low'])\n",
    "plt.xlim(2000, 2500)\n",
    "plt.show()"
   ]
  },
  {
   "cell_type": "code",
   "execution_count": null,
   "metadata": {},
   "outputs": [],
   "source": [
    "no_of_std = 2\n",
    "\n",
    "df['MA_30MA'] = df['close'].rolling(window=30).mean()\n",
    "df['MA_30MA_std'] = df['close'].rolling(window=30).std() \n",
    "df['MA_30MA_BB_high'] = df['MA_30MA'] + no_of_std * df['MA_30MA_std']\n",
    "df['MA_30MA_BB_low'] = df['MA_30MA'] - no_of_std * df['MA_30MA_std']\n",
    "\n",
    "plt.figure(figsize=(10, 10))\n",
    "plt.plot(df['close'].values)\n",
    "plt.plot(df['MA_30MA'].values)\n",
    "plt.plot(df['MA_30MA_BB_high'].values)\n",
    "plt.plot(df['MA_30MA_BB_low'].values)\n",
    "plt.legend(['Close', 'MA_30MA', 'MA_30MA_BB_high', 'MA_30MA_BB_low'])\n",
    "plt.xlim(2000, 2500)\n",
    "plt.show()"
   ]
  },
  {
   "cell_type": "markdown",
   "metadata": {},
   "source": [
    "# RSI"
   ]
  },
  {
   "cell_type": "markdown",
   "metadata": {},
   "source": [
    "The Relative Strength Index (RSI), developed by J. Welles Wilder, is a momentum oscillator that measures the speed and change of price movements. The RSI oscillates between zero and 100. Traditionally the RSI is considered overbought when above 70 and oversold when below 30. Signals can be generated by looking for divergences and failure swings. RSI can also be used to identify the general trend."
   ]
  },
  {
   "cell_type": "code",
   "execution_count": null,
   "metadata": {},
   "outputs": [],
   "source": [
    "def rsiFunc(prices, n=14):\n",
    "    deltas = np.diff(prices)\n",
    "    seed = deltas[:n+1]\n",
    "    up = seed[seed>=0].sum()/n\n",
    "    down = -seed[seed<0].sum()/n\n",
    "    rs = up/down\n",
    "    rsi = np.zeros_like(prices)\n",
    "    rsi[:n] = 100. - 100./(1.+rs)\n",
    "\n",
    "    for i in range(n, len(prices)):\n",
    "        delta = deltas[i-1] # cause the diff is 1 shorter\n",
    "\n",
    "        if delta>0:\n",
    "            upval = delta\n",
    "            downval = 0.\n",
    "        else:\n",
    "            upval = 0.\n",
    "            downval = -delta\n",
    "\n",
    "        up = (up*(n-1) + upval)/n\n",
    "        down = (down*(n-1) + downval)/n\n",
    "\n",
    "        rs = up/down\n",
    "        rsi[i] = 100. - 100./(1.+rs)\n",
    "\n",
    "    return rsi"
   ]
  },
  {
   "cell_type": "code",
   "execution_count": null,
   "metadata": {},
   "outputs": [],
   "source": [
    "rsi_6 = rsiFunc(df['close'].values, 6)\n",
    "rsi_14 = rsiFunc(df['close'].values, 14)\n",
    "rsi_20 = rsiFunc(df['close'].values, 20)"
   ]
  },
  {
   "cell_type": "markdown",
   "metadata": {},
   "source": [
    "# visualization3"
   ]
  },
  {
   "cell_type": "code",
   "execution_count": null,
   "metadata": {},
   "outputs": [],
   "source": [
    "fig, ax = plt.subplots(2, 1, figsize=(10, 10))\n",
    "\n",
    "ax[0].plot(df['MA_15MA'].values)\n",
    "ax[0].plot(df['MA_15MA_BB_high'].values)\n",
    "ax[0].plot(df['MA_15MA_BB_low'].values)\n",
    "ax[1].plot(rsi_6)\n",
    "ax[1].plot(rsi_14)\n",
    "ax[1].plot(rsi_20)\n",
    "\n",
    "ax[0].set_xlim([1500, 2000])\n",
    "ax[0].legend(['MA_15MA', 'MA_15MA_BB_high', 'MA_15MA_BB_low'])\n",
    "ax[1].set_xlim([1500, 2000])\n",
    "ax[1].legend(['rsi_6', 'rsi_14', 'rsi_20'])\n",
    "plt.show()"
   ]
  },
  {
   "cell_type": "code",
   "execution_count": null,
   "metadata": {},
   "outputs": [],
   "source": []
  }
 ],
 "metadata": {
  "kernelspec": {
   "display_name": "Python 3",
   "language": "python",
   "name": "python3"
  },
  "language_info": {
   "codemirror_mode": {
    "name": "ipython",
    "version": 3
   },
   "file_extension": ".py",
   "mimetype": "text/x-python",
   "name": "python",
   "nbconvert_exporter": "python",
   "pygments_lexer": "ipython3",
   "version": "3.7.3"
  }
 },
 "nbformat": 4,
 "nbformat_minor": 2
}
